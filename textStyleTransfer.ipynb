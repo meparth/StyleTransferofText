{
  "nbformat": 4,
  "nbformat_minor": 0,
  "metadata": {
    "colab": {
      "name": "Copy of Thesis(450).ipynb",
      "provenance": [],
      "collapsed_sections": []
    },
    "language_info": {
      "name": "python",
      "version": "3.6.4",
      "mimetype": "text/x-python",
      "codemirror_mode": {
        "name": "ipython",
        "version": 3
      },
      "pygments_lexer": "ipython3",
      "nbconvert_exporter": "python",
      "file_extension": ".py"
    },
    "kernelspec": {
      "name": "python3",
      "display_name": "Python 3"
    },
    "accelerator": "GPU"
  },
  "cells": [
    {
      "cell_type": "code",
      "metadata": {
        "_uuid": "8f2839f25d086af736a60e9eeb907d3b93b6e0e5",
        "_cell_guid": "b1076dfc-b9ad-4769-8c92-a6c4dae69d19",
        "trusted": true,
        "id": "trr-RPcR8e4f",
        "colab_type": "code",
        "colab": {}
      },
      "source": [
        "# This Python 3 environment comes with many helpful analytics libraries installed\n",
        "# It is defined by the kaggle/python docker image: https://github.com/kaggle/docker-python\n",
        "# For example, here's several helpful packages to load in \n",
        "\n",
        "import numpy as np # linear algebra\n",
        "import pandas as pd # data processing, CSV file I/O (e.g. pd.read_csv)\n",
        "\n",
        "# Input data files are available in the \"../input/\" directory.\n",
        "# For example, running this (by clicking run or pressing Shift+Enter) will list the files in the input directory\n",
        "\n",
        "import os\n",
        "\n",
        "# Any results you write to the current directory are saved as output."
      ],
      "execution_count": 0,
      "outputs": []
    },
    {
      "cell_type": "code",
      "metadata": {
        "id": "Y4m7pIIt877F",
        "colab_type": "code",
        "outputId": "fe14892e-1d32-4264-ef60-08ad86f6d65c",
        "colab": {
          "base_uri": "https://localhost:8080/",
          "height": 35
        }
      },
      "source": [
        "!ls"
      ],
      "execution_count": 0,
      "outputs": [
        {
          "output_type": "stream",
          "text": [
            "sample_data\n"
          ],
          "name": "stdout"
        }
      ]
    },
    {
      "cell_type": "code",
      "metadata": {
        "id": "HcC8R3gSTRmm",
        "colab_type": "code",
        "outputId": "e7009da1-058a-436d-bf2b-3cea83218bdd",
        "colab": {
          "base_uri": "https://localhost:8080/",
          "height": 128
        }
      },
      "source": [
        "from google.colab import drive\n",
        "drive.mount('/content/drive')"
      ],
      "execution_count": 0,
      "outputs": [
        {
          "output_type": "stream",
          "text": [
            "Go to this URL in a browser: https://accounts.google.com/o/oauth2/auth?client_id=947318989803-6bn6qk8qdgf4n4g3pfee6491hc0brc4i.apps.googleusercontent.com&redirect_uri=urn%3aietf%3awg%3aoauth%3a2.0%3aoob&response_type=code&scope=email%20https%3a%2f%2fwww.googleapis.com%2fauth%2fdocs.test%20https%3a%2f%2fwww.googleapis.com%2fauth%2fdrive%20https%3a%2f%2fwww.googleapis.com%2fauth%2fdrive.photos.readonly%20https%3a%2f%2fwww.googleapis.com%2fauth%2fpeopleapi.readonly\n",
            "\n",
            "Enter your authorization code:\n",
            "··········\n",
            "Mounted at /content/drive\n"
          ],
          "name": "stdout"
        }
      ]
    },
    {
      "cell_type": "code",
      "metadata": {
        "_cell_guid": "79c7e3d0-c299-4dcb-8224-4455121ee9b0",
        "_uuid": "d629ff2d2480ee46fbb7e2d37f6b5fab8052498a",
        "trusted": true,
        "id": "Cu6wSvX18e4s",
        "colab_type": "code",
        "colab": {}
      },
      "source": [
        "df = pd.read_csv('drive/My Drive/data/finaldataset.csv')\n",
        "\n",
        "\n",
        "negative = df[df['value'] < 0]\n",
        "positive = df[df['value'] > 0]\n",
        "neutral  = df[df['value'] == 0]\n"
      ],
      "execution_count": 0,
      "outputs": []
    },
    {
      "cell_type": "code",
      "metadata": {
        "trusted": true,
        "id": "wy_tq1zO8e4y",
        "colab_type": "code",
        "outputId": "c1ef8d1f-73c5-4395-bff5-46282cb9ec43",
        "colab": {
          "base_uri": "https://localhost:8080/",
          "height": 198
        }
      },
      "source": [
        "df.head()"
      ],
      "execution_count": 0,
      "outputs": [
        {
          "output_type": "execute_result",
          "data": {
            "text/html": [
              "<div>\n",
              "<style scoped>\n",
              "    .dataframe tbody tr th:only-of-type {\n",
              "        vertical-align: middle;\n",
              "    }\n",
              "\n",
              "    .dataframe tbody tr th {\n",
              "        vertical-align: top;\n",
              "    }\n",
              "\n",
              "    .dataframe thead th {\n",
              "        text-align: right;\n",
              "    }\n",
              "</style>\n",
              "<table border=\"1\" class=\"dataframe\">\n",
              "  <thead>\n",
              "    <tr style=\"text-align: right;\">\n",
              "      <th></th>\n",
              "      <th>data</th>\n",
              "      <th>title_x</th>\n",
              "      <th>title_y</th>\n",
              "      <th>title</th>\n",
              "      <th>value</th>\n",
              "      <th>tag</th>\n",
              "    </tr>\n",
              "  </thead>\n",
              "  <tbody>\n",
              "    <tr>\n",
              "      <th>0</th>\n",
              "      <td>লিখার সময় পারলে সত্য লিখার অভ্যাস শিখুন।</td>\n",
              "      <td>-1</td>\n",
              "      <td>-1</td>\n",
              "      <td>2</td>\n",
              "      <td>-1</td>\n",
              "      <td>কিছুটা নেতিবাচক</td>\n",
              "    </tr>\n",
              "    <tr>\n",
              "      <th>1</th>\n",
              "      <td>এটা কেন হচ্ছে? সংশ্লিষ্ট সকলের ডিপ্রেশনের ফলে?...</td>\n",
              "      <td>-1</td>\n",
              "      <td>-1</td>\n",
              "      <td>-1</td>\n",
              "      <td>-1</td>\n",
              "      <td>কিছুটা নেতিবাচক</td>\n",
              "    </tr>\n",
              "    <tr>\n",
              "      <th>2</th>\n",
              "      <td>আমাদের দেশের স্বাভাবিক অর্থনৈতিক গতিপ্রবাহকে ব...</td>\n",
              "      <td>-1</td>\n",
              "      <td>-2</td>\n",
              "      <td>-2</td>\n",
              "      <td>-5</td>\n",
              "      <td>নিশ্চিত নেতিবাচক</td>\n",
              "    </tr>\n",
              "    <tr>\n",
              "      <th>3</th>\n",
              "      <td>চুরি নয় লুটপাট।</td>\n",
              "      <td>-2</td>\n",
              "      <td>-2</td>\n",
              "      <td>-2</td>\n",
              "      <td>-6</td>\n",
              "      <td>নিশ্চিত নেতিবাচক</td>\n",
              "    </tr>\n",
              "    <tr>\n",
              "      <th>4</th>\n",
              "      <td>ইসলামী ব্যাংকের বর্তমান অবস্থা দেখে মনে হয় শাস...</td>\n",
              "      <td>0</td>\n",
              "      <td>-1</td>\n",
              "      <td>0</td>\n",
              "      <td>0</td>\n",
              "      <td>নিরপেক্ষ</td>\n",
              "    </tr>\n",
              "  </tbody>\n",
              "</table>\n",
              "</div>"
            ],
            "text/plain": [
              "                                                data  ...               tag\n",
              "0           লিখার সময় পারলে সত্য লিখার অভ্যাস শিখুন।  ...   কিছুটা নেতিবাচক\n",
              "1  এটা কেন হচ্ছে? সংশ্লিষ্ট সকলের ডিপ্রেশনের ফলে?...  ...   কিছুটা নেতিবাচক\n",
              "2  আমাদের দেশের স্বাভাবিক অর্থনৈতিক গতিপ্রবাহকে ব...  ...  নিশ্চিত নেতিবাচক\n",
              "3                                    চুরি নয় লুটপাট।  ...  নিশ্চিত নেতিবাচক\n",
              "4  ইসলামী ব্যাংকের বর্তমান অবস্থা দেখে মনে হয় শাস...  ...          নিরপেক্ষ\n",
              "\n",
              "[5 rows x 6 columns]"
            ]
          },
          "metadata": {
            "tags": []
          },
          "execution_count": 7
        }
      ]
    },
    {
      "cell_type": "code",
      "metadata": {
        "trusted": true,
        "id": "Pc3L0uOR8e44",
        "colab_type": "code",
        "colab": {}
      },
      "source": [
        "\n",
        "negative2 = set (negative.data)\n",
        "positive2 = set (positive.data)\n",
        "neutral2 = set(neutral.data)\n",
        "\n"
      ],
      "execution_count": 0,
      "outputs": []
    },
    {
      "cell_type": "code",
      "metadata": {
        "id": "k5QvytnDJg2i",
        "colab_type": "code",
        "outputId": "88416ddf-35e2-47b2-9ba3-a156236d3f77",
        "colab": {
          "base_uri": "https://localhost:8080/",
          "height": 35
        }
      },
      "source": [
        "pos = []\n",
        "cnt = 0\n",
        "for s in positive2:\n",
        "    if len(s.split()) <= 20:\n",
        "        pos.append(s)\n",
        "        cnt = cnt + 1\n",
        "\n",
        "\n",
        "positive2 = pos*2\n",
        "cnt*2"
      ],
      "execution_count": 0,
      "outputs": [
        {
          "output_type": "execute_result",
          "data": {
            "text/plain": [
              "4816"
            ]
          },
          "metadata": {
            "tags": []
          },
          "execution_count": 9
        }
      ]
    },
    {
      "cell_type": "code",
      "metadata": {
        "id": "12BnMu9jKo8X",
        "colab_type": "code",
        "outputId": "38640abd-8741-47f0-d4c2-93c398647249",
        "colab": {
          "base_uri": "https://localhost:8080/",
          "height": 35
        }
      },
      "source": [
        "neg = []\n",
        "cnt = 0\n",
        "for s in negative2:\n",
        "    if len(s.split()) <= 20:\n",
        "        neg.append(s)\n",
        "        cnt = cnt + 1\n",
        "\n",
        "\n",
        "negative2 = neg\n",
        "cnt"
      ],
      "execution_count": 0,
      "outputs": [
        {
          "output_type": "execute_result",
          "data": {
            "text/plain": [
              "4664"
            ]
          },
          "metadata": {
            "tags": []
          },
          "execution_count": 10
        }
      ]
    },
    {
      "cell_type": "code",
      "metadata": {
        "id": "_nPXY5QQQeD4",
        "colab_type": "code",
        "outputId": "1235c17c-cc51-4a83-ab02-85484898adbe",
        "colab": {
          "base_uri": "https://localhost:8080/",
          "height": 35
        }
      },
      "source": [
        "neu = []\n",
        "cnt = 0\n",
        "for s in neutral2:\n",
        "    if len(s.split()) <= 20:\n",
        "        neu.append(s)\n",
        "        cnt = cnt + 1\n",
        "\n",
        "\n",
        "neutral2 = neu*2\n",
        "cnt*2"
      ],
      "execution_count": 0,
      "outputs": [
        {
          "output_type": "execute_result",
          "data": {
            "text/plain": [
              "4158"
            ]
          },
          "metadata": {
            "tags": []
          },
          "execution_count": 11
        }
      ]
    },
    {
      "cell_type": "markdown",
      "metadata": {
        "id": "9_CNPDsg8e47",
        "colab_type": "text"
      },
      "source": [
        "**Start**"
      ]
    },
    {
      "cell_type": "code",
      "metadata": {
        "trusted": true,
        "id": "5lOKv3GG8e48",
        "colab_type": "code",
        "colab": {}
      },
      "source": [
        "import torch\n",
        "import torch.nn as nn\n",
        "import torchvision.datasets as dsets\n",
        "import torchvision.transforms as transforms\n",
        "from torch.autograd import Variable\n",
        "import torch.nn.functional as F\n",
        "import matplotlib.pyplot as plt\n",
        "import random\n",
        "import numpy as np\n",
        "from collections import Counter\n",
        "%matplotlib inline"
      ],
      "execution_count": 0,
      "outputs": []
    },
    {
      "cell_type": "code",
      "metadata": {
        "trusted": true,
        "id": "Y4TgC5GV8e5A",
        "colab_type": "code",
        "outputId": "9cfa9709-c9ac-4ff8-fc67-4fda4bf4dd67",
        "colab": {
          "base_uri": "https://localhost:8080/",
          "height": 35
        }
      },
      "source": [
        "USE_CUDA = torch.cuda.is_available()\n",
        "USE_CUDA"
      ],
      "execution_count": 0,
      "outputs": [
        {
          "output_type": "execute_result",
          "data": {
            "text/plain": [
              "True"
            ]
          },
          "metadata": {
            "tags": []
          },
          "execution_count": 13
        }
      ]
    },
    {
      "cell_type": "code",
      "metadata": {
        "trusted": true,
        "id": "5vpZmPDe8e5C",
        "colab_type": "code",
        "colab": {}
      },
      "source": [
        "import random\n",
        "dataPOS = random.sample(positive2,2300) \n",
        "dataNEG = random.sample(negative2,2300)\n",
        "dataNEU = random.sample(neutral2, 2000)"
      ],
      "execution_count": 0,
      "outputs": []
    },
    {
      "cell_type": "code",
      "metadata": {
        "trusted": true,
        "id": "VzxFLLGT8e5F",
        "colab_type": "code",
        "outputId": "5ace8fed-6761-4e11-d5f9-fa7f8049b414",
        "colab": {
          "base_uri": "https://localhost:8080/",
          "height": 54
        }
      },
      "source": [
        "import nltk\n",
        "nltk.download('punkt')\n",
        "SEQ_LENGTH = 22\n",
        "trainPOS = []\n",
        "trainNEG = []\n",
        "trainNEU = []\n",
        "\n"
      ],
      "execution_count": 0,
      "outputs": [
        {
          "output_type": "stream",
          "text": [
            "[nltk_data] Downloading package punkt to /root/nltk_data...\n",
            "[nltk_data]   Unzipping tokenizers/punkt.zip.\n"
          ],
          "name": "stdout"
        }
      ]
    },
    {
      "cell_type": "code",
      "metadata": {
        "trusted": true,
        "id": "8wpczdIl8e5J",
        "colab_type": "code",
        "colab": {}
      },
      "source": [
        "for t in dataPOS:\n",
        "    t0 = t\n",
        "    t0 = t0.replace(\"<br>\",\"\")\n",
        "    t0 = t0.replace(\"/\",\"\")\n",
        "    token0 = nltk.word_tokenize(t0)\n",
        "   \n",
        "    \n",
        "    if len(token0)>=SEQ_LENGTH:\n",
        "        token0= token0[:SEQ_LENGTH-1]\n",
        "    token0.append(\"<EOS>\")\n",
        "\n",
        "    while len(token0)<SEQ_LENGTH:\n",
        "        token0.append('<PAD>')\n",
        "    \n",
        "    trainPOS.append([token0,token0,1])"
      ],
      "execution_count": 0,
      "outputs": []
    },
    {
      "cell_type": "code",
      "metadata": {
        "trusted": true,
        "id": "v3gdIPBV8e5N",
        "colab_type": "code",
        "colab": {}
      },
      "source": [
        "for t in dataNEG:\n",
        "    t0 = t\n",
        "    t0 = t0.replace(\"<br>\",\"\")\n",
        "    t0 = t0.replace(\"/\",\"\")\n",
        "    token0 = nltk.word_tokenize(t0)\n",
        "   \n",
        "    \n",
        "    if len(token0)>=SEQ_LENGTH:\n",
        "        token0= token0[:SEQ_LENGTH-1]\n",
        "    token0.append(\"<EOS>\")\n",
        "\n",
        "    while len(token0)<SEQ_LENGTH:\n",
        "        token0.append('<PAD>')\n",
        "    \n",
        "    trainNEG.append([token0,token0,0])"
      ],
      "execution_count": 0,
      "outputs": []
    },
    {
      "cell_type": "code",
      "metadata": {
        "id": "zKVw9ofibCeo",
        "colab_type": "code",
        "colab": {}
      },
      "source": [
        "# trainNEG"
      ],
      "execution_count": 0,
      "outputs": []
    },
    {
      "cell_type": "code",
      "metadata": {
        "id": "FTOF1NxARK30",
        "colab_type": "code",
        "colab": {}
      },
      "source": [
        "for t in dataNEU:\n",
        "    t0 = t\n",
        "    t0 = t0.replace(\"<br>\",\"\")\n",
        "    t0 = t0.replace(\"/\",\"\")\n",
        "    token0 = nltk.word_tokenize(t0)\n",
        "   \n",
        "    \n",
        "    if len(token0)>=SEQ_LENGTH:\n",
        "        token0= token0[:SEQ_LENGTH-1]\n",
        "    token0.append(\"<EOS>\")\n",
        "\n",
        "    while len(token0)<SEQ_LENGTH:\n",
        "        token0.append('<PAD>')\n",
        "    \n",
        "    trainNEU.append([token0,token0,0])"
      ],
      "execution_count": 0,
      "outputs": []
    },
    {
      "cell_type": "code",
      "metadata": {
        "trusted": true,
        "id": "3yImUhmq8e5T",
        "colab_type": "code",
        "colab": {}
      },
      "source": [
        "word2index={\"<PAD>\":0,\"<SOS>\":1,\"<EOS>\":2,\"<UNK>\":3}\n",
        "\n",
        "for t in trainPOS:\n",
        "    for token in t[0]:\n",
        "        if token not in word2index:\n",
        "            word2index[token]=len(word2index)\n",
        "\n",
        "\n",
        "\n",
        "for t in trainNEG:\n",
        "    for token in t[0]:\n",
        "        if token not in word2index:\n",
        "            word2index[token]=len(word2index)\n",
        "\n",
        "\n",
        "for t in trainNEU:\n",
        "    for token in t[0]:\n",
        "        if token not in word2index:\n",
        "            word2index[token]=len(word2index)\n",
        "\n",
        "index2word = {v:k for k,v in word2index.items()}"
      ],
      "execution_count": 0,
      "outputs": []
    },
    {
      "cell_type": "code",
      "metadata": {
        "id": "r6m9GOhsbgzp",
        "colab_type": "code",
        "colab": {}
      },
      "source": [
        "word2index"
      ],
      "execution_count": 0,
      "outputs": []
    },
    {
      "cell_type": "code",
      "metadata": {
        "trusted": true,
        "id": "p_CJYSiB8e5V",
        "colab_type": "code",
        "colab": {}
      },
      "source": [
        "def prepare_sequence(seq, to_ix):\n",
        "    idxs = list(map(lambda w: to_ix[w] if w in to_ix.keys() else to_ix[\"<UNK>\"], seq))\n",
        "    tensor = Variable(torch.LongTensor(idxs)).cuda() if USE_CUDA else Variable(torch.LongTensor(idxs))\n",
        "    return tensor\n",
        "\n",
        "\n",
        "flatten = lambda l: [item for sublist in l for item in sublist]"
      ],
      "execution_count": 0,
      "outputs": []
    },
    {
      "cell_type": "code",
      "metadata": {
        "trusted": true,
        "id": "dCey_Cdw8e5X",
        "colab_type": "code",
        "colab": {}
      },
      "source": [
        "class Encoder(nn.Module):\n",
        "    def __init__(self, input_size, hidden_size,latent_size=10,n_layers=1):\n",
        "        super(Encoder, self).__init__()\n",
        "        \n",
        "        self.input_size = input_size\n",
        "        self.hidden_size = hidden_size\n",
        "        self.n_layers = n_layers\n",
        "        self.Wmu= nn.Linear(hidden_size,latent_size)\n",
        "        self.Wsigma = nn.Linear(hidden_size,latent_size)\n",
        "        self.embedding = nn.Embedding(input_size, hidden_size)\n",
        "        self.gru = nn.GRU(hidden_size, hidden_size, n_layers,batch_first=True)\n",
        "    \n",
        "    def reparametrize(self, mu, log_var):\n",
        "        \"\"\"\"z = mean + eps * sigma where eps is sampled from N(0, 1).\"\"\"\n",
        "        eps = Variable(torch.randn(mu.size(0), mu.size(1))).cuda() if USE_CUDA else Variable(torch.randn(mu.size(0), mu.size(1)))\n",
        "        z = mu + eps * torch.exp(log_var/2)    # 2 for convert var to std\n",
        "        return z\n",
        "    \n",
        "    def forward(self, input,train=True):\n",
        "        hidden = Variable(torch.zeros(self.n_layers, input.size(0), self.hidden_size)).cuda() if USE_CUDA else Variable(torch.zeros(self.n_layers, input.size(0), self.hidden_size))\n",
        "        \n",
        "        embedded = self.embedding(input)\n",
        "        output, hidden = self.gru(embedded, hidden)\n",
        "        mu = self.Wmu(hidden[-1])\n",
        "        log_var = self.Wsigma(hidden[-1])\n",
        "        z = self.reparametrize(mu, log_var)\n",
        "        \n",
        "        return z,mu,log_var"
      ],
      "execution_count": 0,
      "outputs": []
    },
    {
      "cell_type": "code",
      "metadata": {
        "trusted": true,
        "id": "4JLE2jis8e5Z",
        "colab_type": "code",
        "colab": {}
      },
      "source": [
        "class Generator(nn.Module):\n",
        "    def __init__(self, hidden_size, output_size,latent_size=10,code_size=2, n_layers=1):\n",
        "        super(Generator, self).__init__()\n",
        "        \n",
        "        self.hidden_size = hidden_size\n",
        "        self.output_size = output_size\n",
        "        self.n_layers = n_layers\n",
        "        #self.Wz = nn.Linear(latent_size+code_size,hidden_size)\n",
        "        self.Wz = nn.Linear(latent_size,hidden_size)\n",
        "        self.tanh = nn.Tanh()\n",
        "        self.embedding = nn.Embedding(self.output_size, self.hidden_size)\n",
        "\n",
        "        #self.dropout = nn.Dropout(self.dropout_p)\n",
        "        self.gru = nn.GRU(self.hidden_size, self.hidden_size, self.n_layers,batch_first=True)\n",
        "        self.out = nn.Linear(self.hidden_size, self.output_size)\n",
        "        \n",
        "    def forward(self, input,latent,code,lengths,seq_length,training=True):\n",
        "        \n",
        "\n",
        "        embedded = self.embedding(input)\n",
        "        #embedded = self.dropout(embedded)\n",
        "       \n",
        "        # h0\n",
        "        #latent_code = torch.cat((latent,code),1) # z,c\n",
        "        #hidden = self.tanh(self.Wz(latent_code)).view(self.n_layers,input.size(0),-1) \n",
        "        hidden = self.tanh(self.Wz(latent)).view(self.n_layers,input.size(0),-1) \n",
        "        decode=[]\n",
        "        # Apply GRU to the output so far\n",
        "        for i in range(seq_length):\n",
        "            \n",
        "            _, hidden = self.gru(embedded, hidden)\n",
        "            score = self.out(hidden.view(hidden.size(0)*hidden.size(1),-1))\n",
        "            softmaxed = F.log_softmax(score)\n",
        "            decode.append(softmaxed)\n",
        "            _,input = torch.max(softmaxed,1)\n",
        "            embedded = self.embedding(input.unsqueeze(1))\n",
        "            #embedded = self.dropout(embedded)\n",
        "        \n",
        "        # time-step column-wise concat, reshape!!\n",
        "        scores = torch.cat(decode,1)\n",
        "        \n",
        "        return scores.view(input.size(0)*seq_length,-1)"
      ],
      "execution_count": 0,
      "outputs": []
    },
    {
      "cell_type": "code",
      "metadata": {
        "trusted": true,
        "id": "puIoa-k58e5c",
        "colab_type": "code",
        "colab": {}
      },
      "source": [
        "class  Discriminator(nn.Module):\n",
        "    \n",
        "    def __init__(self, embed_num,embed_dim,class_num,kernel_num,kernel_sizes,dropout):\n",
        "        super(Discriminator,self).__init__()\n",
        "        #self.args = args\n",
        "        \n",
        "        V = embed_num # num of vocab\n",
        "        D = embed_dim # dimenstion of word vector\n",
        "        C = class_num # num of class\n",
        "        Ci = 1\n",
        "        Co = kernel_num # 100\n",
        "        Ks = kernel_sizes # [3,4,5]\n",
        "\n",
        "        self.embed = nn.Embedding(V, D)\n",
        "        #self.convs1 = [nn.Conv2d(Ci, Co, (K, D)) for K in Ks]\n",
        "        self.convs1 = nn.ModuleList([nn.Conv2d(Ci, Co, (K, D)) for K in Ks])\n",
        "        \n",
        "        # kernal_size = (K,D) \n",
        "        \n",
        "        '''\n",
        "        self.conv13 = nn.Conv2d(Ci, Co, (3, D))\n",
        "        self.conv14 = nn.Conv2d(Ci, Co, (4, D))\n",
        "        self.conv15 = nn.Conv2d(Ci, Co, (5, D))\n",
        "        '''\n",
        "        self.dropout = nn.Dropout(dropout)\n",
        "        self.fc1 = nn.Linear(len(Ks)*Co, C)\n",
        "\n",
        "    def conv_and_pool(self, x, conv):\n",
        "        x = F.relu(conv(x)).squeeze(3) #(N,Co,W)\n",
        "        x = F.max_pool1d(x, x.size(2)).squeeze(2)\n",
        "        return x\n",
        "\n",
        "\n",
        "    def forward(self, x,train=True):\n",
        "        x = self.embed(x) # (N,W,D)\n",
        "        \n",
        "        #if self.args.static:\n",
        "        #    x = Variable(x)\n",
        "\n",
        "        x = x.unsqueeze(1) # (N,Ci,W,D)\n",
        "\n",
        "        x = [F.relu(conv(x)).squeeze(3) for conv in self.convs1] #[(N,Co,W), ...]*len(Ks)\n",
        "\n",
        "\n",
        "        x = [F.max_pool1d(i, i.size(2)).squeeze(2) for i in x] #[(N,Co), ...]*len(Ks)\n",
        "\n",
        "        x = torch.cat(x, 1)\n",
        "\n",
        "        '''\n",
        "        x1 = self.conv_and_pool(x,self.conv13) #(N,Co)\n",
        "        x2 = self.conv_and_pool(x,self.conv14) #(N,Co)\n",
        "        x3 = self.conv_and_pool(x,self.conv15) #(N,Co)\n",
        "        x = torch.cat((x1, x2, x3), 1) # (N,len(Ks)*Co)\n",
        "        '''\n",
        "        if train:\n",
        "            x = self.dropout(x) # (N,len(Ks)*Co)\n",
        "        logit = self.fc1(x) # (N,C)\n",
        "        return logit"
      ],
      "execution_count": 0,
      "outputs": []
    },
    {
      "cell_type": "code",
      "metadata": {
        "trusted": true,
        "id": "AkQDBkfu8e5e",
        "colab_type": "code",
        "colab": {}
      },
      "source": [
        "HIDDEN_SIZE = 300\n",
        "LATENT_SIZE = 10\n",
        "CODE_SIZE = 2\n",
        "BATCH_SIZE=32\n",
        "STEP=100\n",
        "KTA = 0.0\n",
        "LEARNING_RATE=0.001"
      ],
      "execution_count": 0,
      "outputs": []
    },
    {
      "cell_type": "code",
      "metadata": {
        "trusted": true,
        "id": "zW3NuRV68e5h",
        "colab_type": "code",
        "colab": {}
      },
      "source": [
        "encoder =  Encoder(len(word2index), HIDDEN_SIZE,LATENT_SIZE, 2)\n",
        "generatorPOS = Generator(HIDDEN_SIZE,len(word2index),LATENT_SIZE,CODE_SIZE)\n",
        "generatorNEG = Generator(HIDDEN_SIZE,len(word2index),LATENT_SIZE,CODE_SIZE)\n",
        "generatorNEU = Generator(HIDDEN_SIZE,len(word2index),LATENT_SIZE,CODE_SIZE)\n",
        "\n",
        "\n",
        "discriminator = Discriminator(len(word2index),100,2,30,[3,4,5],0.8)\n",
        "if USE_CUDA:\n",
        "    encoder = encoder.cuda()\n",
        "    generatorPOS = generatorPOS.cuda()\n",
        "    generatorNEG = generatorNEG.cuda()\n",
        "    generatorNEU = generatorNEU.cuda()\n",
        "\n",
        "\n",
        "    discriminator = discriminator.cuda()\n",
        "    \n",
        "Recon = nn.CrossEntropyLoss(ignore_index=0)\n",
        "\n",
        "\n",
        "enc_optim= torch.optim.Adam(encoder.parameters(), lr=LEARNING_RATE)\n",
        "gen_optimPOS = torch.optim.Adam(generatorPOS.parameters(),lr=LEARNING_RATE)\n",
        "gen_optimNEG = torch.optim.Adam(generatorNEG.parameters(),lr=LEARNING_RATE)\n",
        "gen_optimNEU = torch.optim.Adam(generatorNEU.parameters(),lr=LEARNING_RATE)\n",
        "\n",
        "\n",
        "dis_optiom = torch.optim.Adam(discriminator.parameters(),lr=LEARNING_RATE)"
      ],
      "execution_count": 0,
      "outputs": []
    },
    {
      "cell_type": "code",
      "metadata": {
        "trusted": true,
        "id": "cSX4IYoI8e5k",
        "colab_type": "code",
        "colab": {}
      },
      "source": [
        "def getBatch(batch_size,train_data):\n",
        "    random.shuffle(train_data)\n",
        "    sindex=0\n",
        "    eindex=batch_size\n",
        "    while eindex < len(train_data):\n",
        "        batch = train_data[sindex:eindex]\n",
        "        x,y,c = zip(*batch)\n",
        "        x,y,c = torch.cat(x),torch.cat(y),torch.cat(c)\n",
        "        temp = eindex\n",
        "        eindex = eindex+batch_size\n",
        "        sindex = temp\n",
        "        \n",
        "        yield (x,y,c)"
      ],
      "execution_count": 0,
      "outputs": []
    },
    {
      "cell_type": "code",
      "metadata": {
        "trusted": true,
        "id": "mqjRGCGF8e5n",
        "colab_type": "code",
        "colab": {}
      },
      "source": [
        "def TRAIN(train, encoder, generator, enc_optom, gen_optim):\n",
        "    \n",
        "    elboloss = []\n",
        "    reconloss = []\n",
        "    kldloss = []\n",
        "    \n",
        "    train_x=[]\n",
        "    train_y=[]\n",
        "    code_labels=[]\n",
        "    lengths=[]\n",
        "    for tr in train:\n",
        "        temp = prepare_sequence(tr[0], word2index)\n",
        "        temp = temp.view(1,-1)\n",
        "        train_x.append(temp)\n",
        "\n",
        "        temp2 = prepare_sequence(tr[1],word2index)\n",
        "        temp2 = temp2.view(1,-1)\n",
        "        train_y.append(temp2)\n",
        "\n",
        "        length = [t for t in tr[1] if t !='<PAD>']\n",
        "        lengths.append(len(length))\n",
        "        code_labels.append(Variable(torch.LongTensor([int(tr[2])])).cuda() if USE_CUDA else Variable(torch.LongTensor([int(tr[2])])))\n",
        "\n",
        "    \n",
        "    train_data = list(zip(train_x,train_y,code_labels))\n",
        "    \n",
        "    \n",
        "    for step in range(STEP):\n",
        "        for i,(x,y,c) in enumerate(getBatch(BATCH_SIZE,train_data)):\n",
        "\n",
        "            encoder.zero_grad()\n",
        "            generator.zero_grad()\n",
        "\n",
        "            generator_input = Variable(torch.LongTensor([[word2index['<SOS>']]*BATCH_SIZE])).transpose(1,0)\n",
        "\n",
        "            if USE_CUDA:\n",
        "                generator_input = generator_input.cuda()\n",
        "\n",
        "            latent, mu, log_var = encoder(x)\n",
        "\n",
        "            code = Variable(torch.randn([BATCH_SIZE,2]).uniform_(0,1)).cuda() if USE_CUDA else Variable(torch.randn([BATCH_SIZE,2]).uniform_(0,1))\n",
        "\n",
        "            score = generator(generator_input,latent,code,lengths,SEQ_LENGTH)\n",
        "            recon_loss=Recon(score,y.view(-1))\n",
        "            kld_loss = torch.sum(0.5 * (mu**2 + torch.exp(log_var) - log_var -1))\n",
        "\n",
        "        #     KL_COST_ANNEALING\n",
        "            cost_annealing_check = recon_loss.data.cpu().numpy() if USE_CUDA else recon_loss.data.numpy()\n",
        "            if cost_annealing_check<1.5:\n",
        "                KTA = 0.5 # KL cost term annealing\n",
        "            elif cost_annealing_check<1.0:\n",
        "                KTA = 0.75\n",
        "            elif cost_annealing_check<0.5:\n",
        "                KTA = 1.0\n",
        "            else:\n",
        "                KTA = 0.0\n",
        "\n",
        "            ELBO = recon_loss+KTA*kld_loss\n",
        "\n",
        "            ELBO.backward()\n",
        "\n",
        "            torch.nn.utils.clip_grad_norm(encoder.parameters(), 5.0)\n",
        "            torch.nn.utils.clip_grad_norm(generator.parameters(), 5.0)\n",
        "\n",
        "            gen_optim.step()\n",
        "            enc_optim.step()\n",
        "\n",
        "        # KL term Anealing\n",
        "        #KTA+=1/STEP\n",
        "        #KTA = round(KTA,3)\n",
        "\n",
        "        if step % 1==0:\n",
        "            elbo_for_print = ELBO.data.cpu().numpy() if USE_CUDA else ELBO.data.numpy()\n",
        "            recon_for_print = recon_loss.data.cpu().numpy() if USE_CUDA else recon_loss.data.numpy()\n",
        "            kld_for_print = kld_loss.data.cpu().numpy() if USE_CUDA else kld_loss.data.numpy()\n",
        "            print(\"[%d/%d] ELBO : %.4f , RECON : %.4f & KLD : %.4f\" % (step,STEP,elbo_for_print,\n",
        "                                                                                  recon_for_print,\n",
        "                                                                                  kld_for_print))\n",
        "            elboloss.append(elbo_for_print)\n",
        "            reconloss.append(recon_for_print)\n",
        "            kldloss.append(kld_for_print)\n",
        "    \n",
        "    \n",
        "    plt.plot(elboloss)\n",
        "    plt.plot(reconloss)\n",
        "    plt.title('ELBO + Recon(NEG)')\n",
        "    plt.ylabel('Loss')\n",
        "    plt.xlabel('Step')\n",
        "    plt.legend(['ElboLoss', 'ReconLoss'], loc='upper left')\n",
        "    plt.show()\n",
        "    plt.savefig('ELRCneg' + '.png')\n",
        "    \n",
        "    \n",
        "    plt.plot(kldloss)\n",
        "    plt.title('KLD(NEG)')\n",
        "    plt.ylabel('Loss')\n",
        "    plt.xlabel('Step')\n",
        "    plt.legend(['KldLoss'], loc='upper left')\n",
        "    plt.show()\n",
        "    plt.savefig('KLDneg' + '.png')\n",
        "\n",
        "    \n",
        "    \n",
        "    \n",
        "    return encoder, generator"
      ],
      "execution_count": 0,
      "outputs": []
    },
    {
      "cell_type": "code",
      "metadata": {
        "id": "4rQNLWYBSM1p",
        "colab_type": "code",
        "outputId": "700af0f7-dc4d-4fbd-fdf9-a508c24655eb",
        "colab": {
          "base_uri": "https://localhost:8080/",
          "height": 1000
        }
      },
      "source": [
        "encoder, generatorPOS = TRAIN(trainPOS, encoder, generatorPOS, enc_optim, gen_optimPOS)"
      ],
      "execution_count": 0,
      "outputs": [
        {
          "output_type": "stream",
          "text": [
            "/usr/local/lib/python3.6/dist-packages/ipykernel_launcher.py:33: UserWarning: Implicit dimension choice for log_softmax has been deprecated. Change the call to include dim=X as an argument.\n",
            "/usr/local/lib/python3.6/dist-packages/ipykernel_launcher.py:62: UserWarning: torch.nn.utils.clip_grad_norm is now deprecated in favor of torch.nn.utils.clip_grad_norm_.\n",
            "/usr/local/lib/python3.6/dist-packages/ipykernel_launcher.py:63: UserWarning: torch.nn.utils.clip_grad_norm is now deprecated in favor of torch.nn.utils.clip_grad_norm_.\n"
          ],
          "name": "stderr"
        },
        {
          "output_type": "stream",
          "text": [
            "[0/100] ELBO : 7.5597 , RECON : 7.5597 & KLD : 2298.0903\n",
            "[1/100] ELBO : 7.3488 , RECON : 7.3488 & KLD : 1918.8770\n",
            "[2/100] ELBO : 7.1540 , RECON : 7.1540 & KLD : 2853.0054\n",
            "[3/100] ELBO : 7.0536 , RECON : 7.0536 & KLD : 3581.8940\n",
            "[4/100] ELBO : 6.6691 , RECON : 6.6691 & KLD : 5102.7080\n",
            "[5/100] ELBO : 6.2752 , RECON : 6.2752 & KLD : 6292.1553\n",
            "[6/100] ELBO : 6.2082 , RECON : 6.2082 & KLD : 7168.6768\n",
            "[7/100] ELBO : 5.7048 , RECON : 5.7048 & KLD : 8692.6055\n",
            "[8/100] ELBO : 5.5653 , RECON : 5.5653 & KLD : 9565.6641\n",
            "[9/100] ELBO : 5.7127 , RECON : 5.7127 & KLD : 10348.2207\n",
            "[10/100] ELBO : 5.2010 , RECON : 5.2010 & KLD : 11693.1211\n",
            "[11/100] ELBO : 4.9771 , RECON : 4.9771 & KLD : 11658.5586\n",
            "[12/100] ELBO : 5.0607 , RECON : 5.0607 & KLD : 13403.7549\n",
            "[13/100] ELBO : 4.8769 , RECON : 4.8769 & KLD : 14227.6348\n",
            "[14/100] ELBO : 4.7305 , RECON : 4.7305 & KLD : 15353.7109\n",
            "[15/100] ELBO : 4.5534 , RECON : 4.5534 & KLD : 15973.0518\n",
            "[16/100] ELBO : 4.4241 , RECON : 4.4241 & KLD : 17198.7148\n",
            "[17/100] ELBO : 4.1819 , RECON : 4.1819 & KLD : 17808.0898\n",
            "[18/100] ELBO : 3.8829 , RECON : 3.8829 & KLD : 18814.0508\n",
            "[19/100] ELBO : 3.6463 , RECON : 3.6463 & KLD : 19942.9453\n",
            "[20/100] ELBO : 3.8759 , RECON : 3.8759 & KLD : 20058.0332\n",
            "[21/100] ELBO : 3.6923 , RECON : 3.6923 & KLD : 21580.9648\n",
            "[22/100] ELBO : 3.5749 , RECON : 3.5749 & KLD : 22030.2773\n",
            "[23/100] ELBO : 3.1576 , RECON : 3.1576 & KLD : 23255.7812\n",
            "[24/100] ELBO : 2.9820 , RECON : 2.9820 & KLD : 23955.8633\n",
            "[25/100] ELBO : 3.2754 , RECON : 3.2754 & KLD : 23965.5820\n",
            "[26/100] ELBO : 2.7513 , RECON : 2.7513 & KLD : 25087.0684\n",
            "[27/100] ELBO : 2.8794 , RECON : 2.8794 & KLD : 26360.1426\n",
            "[28/100] ELBO : 2.8321 , RECON : 2.8321 & KLD : 26799.2617\n",
            "[29/100] ELBO : 2.4866 , RECON : 2.4866 & KLD : 27895.5859\n",
            "[30/100] ELBO : 2.4010 , RECON : 2.4010 & KLD : 28552.3184\n",
            "[31/100] ELBO : 2.3243 , RECON : 2.3243 & KLD : 27654.1855\n",
            "[32/100] ELBO : 2.3454 , RECON : 2.3454 & KLD : 28666.5938\n",
            "[33/100] ELBO : 2.0712 , RECON : 2.0712 & KLD : 31115.2617\n",
            "[34/100] ELBO : 1.6888 , RECON : 1.6888 & KLD : 25346.3359\n",
            "[35/100] ELBO : 1.6875 , RECON : 1.6875 & KLD : 22718.9297\n",
            "[36/100] ELBO : 1.6932 , RECON : 1.6932 & KLD : 17326.1758\n",
            "[37/100] ELBO : 2.6396 , RECON : 2.6396 & KLD : 11856.8408\n",
            "[38/100] ELBO : 1.7505 , RECON : 1.7505 & KLD : 7734.7979\n",
            "[39/100] ELBO : 1.6723 , RECON : 1.6723 & KLD : 6262.9629\n",
            "[40/100] ELBO : 1.5454 , RECON : 1.5454 & KLD : 5698.1465\n",
            "[41/100] ELBO : 1.5612 , RECON : 1.5612 & KLD : 3822.4534\n",
            "[42/100] ELBO : 2.4927 , RECON : 2.4927 & KLD : 2730.5745\n",
            "[43/100] ELBO : 2.0063 , RECON : 2.0063 & KLD : 3402.7368\n",
            "[44/100] ELBO : 1.9730 , RECON : 1.9730 & KLD : 2253.5540\n",
            "[45/100] ELBO : 1.9988 , RECON : 1.9988 & KLD : 1909.3676\n",
            "[46/100] ELBO : 2.1209 , RECON : 2.1209 & KLD : 1645.4565\n",
            "[47/100] ELBO : 2.3640 , RECON : 2.3640 & KLD : 1229.9047\n",
            "[48/100] ELBO : 1.6420 , RECON : 1.6420 & KLD : 1517.3485\n",
            "[49/100] ELBO : 1.5599 , RECON : 1.5599 & KLD : 1268.4041\n",
            "[50/100] ELBO : 1.9579 , RECON : 1.9579 & KLD : 1271.8375\n",
            "[51/100] ELBO : 1.7046 , RECON : 1.7046 & KLD : 1029.9572\n",
            "[52/100] ELBO : 1.7980 , RECON : 1.7980 & KLD : 1089.0875\n",
            "[53/100] ELBO : 1.6586 , RECON : 1.6586 & KLD : 1095.2733\n",
            "[54/100] ELBO : 2.1952 , RECON : 2.1952 & KLD : 1030.2762\n",
            "[55/100] ELBO : 2.2485 , RECON : 2.2485 & KLD : 781.1757\n",
            "[56/100] ELBO : 1.7452 , RECON : 1.7452 & KLD : 714.9412\n",
            "[57/100] ELBO : 2.2180 , RECON : 2.2180 & KLD : 755.7986\n",
            "[58/100] ELBO : 1.5766 , RECON : 1.5766 & KLD : 788.0256\n",
            "[59/100] ELBO : 1.5227 , RECON : 1.5227 & KLD : 866.0435\n",
            "[60/100] ELBO : 1.8859 , RECON : 1.8859 & KLD : 706.4667\n",
            "[61/100] ELBO : 1.6480 , RECON : 1.6480 & KLD : 604.0287\n",
            "[62/100] ELBO : 1.6086 , RECON : 1.6086 & KLD : 631.1077\n",
            "[63/100] ELBO : 2.0658 , RECON : 2.0658 & KLD : 677.4199\n",
            "[64/100] ELBO : 1.8750 , RECON : 1.8750 & KLD : 571.2404\n",
            "[65/100] ELBO : 311.4034 , RECON : 1.3509 & KLD : 620.1049\n",
            "[66/100] ELBO : 1.5145 , RECON : 1.5145 & KLD : 617.5280\n",
            "[67/100] ELBO : 1.6856 , RECON : 1.6856 & KLD : 577.8577\n",
            "[68/100] ELBO : 2.0567 , RECON : 2.0567 & KLD : 531.4276\n",
            "[69/100] ELBO : 1.8060 , RECON : 1.8060 & KLD : 614.6345\n",
            "[70/100] ELBO : 1.7941 , RECON : 1.7941 & KLD : 598.1740\n",
            "[71/100] ELBO : 1.9986 , RECON : 1.9986 & KLD : 520.0710\n",
            "[72/100] ELBO : 1.5163 , RECON : 1.5163 & KLD : 560.5276\n",
            "[73/100] ELBO : 1.7072 , RECON : 1.7072 & KLD : 584.6641\n",
            "[74/100] ELBO : 1.8866 , RECON : 1.8866 & KLD : 453.5383\n",
            "[75/100] ELBO : 2.1550 , RECON : 2.1550 & KLD : 515.0013\n",
            "[76/100] ELBO : 237.2686 , RECON : 1.2087 & KLD : 472.1198\n",
            "[77/100] ELBO : 281.7211 , RECON : 1.3527 & KLD : 560.7367\n",
            "[78/100] ELBO : 1.8147 , RECON : 1.8147 & KLD : 470.2047\n",
            "[79/100] ELBO : 2.3488 , RECON : 2.3488 & KLD : 504.6116\n",
            "[80/100] ELBO : 1.6514 , RECON : 1.6514 & KLD : 483.0569\n",
            "[81/100] ELBO : 2.0448 , RECON : 2.0448 & KLD : 479.1935\n",
            "[82/100] ELBO : 1.9663 , RECON : 1.9663 & KLD : 492.1779\n",
            "[83/100] ELBO : 2.2643 , RECON : 2.2643 & KLD : 467.5414\n",
            "[84/100] ELBO : 2.0918 , RECON : 2.0918 & KLD : 423.4514\n",
            "[85/100] ELBO : 1.7081 , RECON : 1.7081 & KLD : 451.2246\n",
            "[86/100] ELBO : 241.7403 , RECON : 1.1248 & KLD : 481.2310\n",
            "[87/100] ELBO : 1.5254 , RECON : 1.5254 & KLD : 428.6679\n",
            "[88/100] ELBO : 1.8923 , RECON : 1.8923 & KLD : 406.6752\n",
            "[89/100] ELBO : 1.5766 , RECON : 1.5766 & KLD : 494.9862\n",
            "[90/100] ELBO : 1.8144 , RECON : 1.8144 & KLD : 374.4091\n",
            "[91/100] ELBO : 1.7325 , RECON : 1.7325 & KLD : 466.4595\n",
            "[92/100] ELBO : 1.6512 , RECON : 1.6512 & KLD : 405.0104\n",
            "[93/100] ELBO : 2.0672 , RECON : 2.0672 & KLD : 423.3209\n",
            "[94/100] ELBO : 2.2524 , RECON : 2.2524 & KLD : 370.8843\n",
            "[95/100] ELBO : 2.1784 , RECON : 2.1784 & KLD : 390.3481\n",
            "[96/100] ELBO : 1.8880 , RECON : 1.8880 & KLD : 381.9375\n",
            "[97/100] ELBO : 2.2531 , RECON : 2.2531 & KLD : 379.0393\n",
            "[98/100] ELBO : 1.9079 , RECON : 1.9079 & KLD : 362.9980\n",
            "[99/100] ELBO : 1.9229 , RECON : 1.9229 & KLD : 389.4780\n"
          ],
          "name": "stdout"
        },
        {
          "output_type": "display_data",
          "data": {
            "image/png": "[encoded data removed]",
            "text/plain": [
              "<Figure size 432x288 with 1 Axes>"
            ]
          },
          "metadata": {
            "tags": []
          }
        },
        {
          "output_type": "display_data",
          "data": {
            "image/png": "[encoded data removed]",
            "text/plain": [
              "<Figure size 432x288 with 1 Axes>"
            ]
          },
          "metadata": {
            "tags": []
          }
        },
        {
          "output_type": "display_data",
          "data": {
            "text/plain": [
              "<Figure size 432x288 with 0 Axes>"
            ]
          },
          "metadata": {
            "tags": []
          }
        }
      ]
    },
    {
      "cell_type": "code",
      "metadata": {
        "trusted": true,
        "id": "mSGLodAR8e5q",
        "colab_type": "code",
        "outputId": "aff6ea46-52ab-41c9-923d-d4f471d84fa2",
        "colab": {
          "base_uri": "https://localhost:8080/",
          "height": 1000
        }
      },
      "source": [
        "encoder, generatorNEG = TRAIN(trainNEG, encoder, generatorNEG, enc_optim, gen_optimNEG)"
      ],
      "execution_count": 0,
      "outputs": [
        {
          "output_type": "stream",
          "text": [
            "/usr/local/lib/python3.6/dist-packages/ipykernel_launcher.py:33: UserWarning: Implicit dimension choice for log_softmax has been deprecated. Change the call to include dim=X as an argument.\n",
            "/usr/local/lib/python3.6/dist-packages/ipykernel_launcher.py:62: UserWarning: torch.nn.utils.clip_grad_norm is now deprecated in favor of torch.nn.utils.clip_grad_norm_.\n",
            "/usr/local/lib/python3.6/dist-packages/ipykernel_launcher.py:63: UserWarning: torch.nn.utils.clip_grad_norm is now deprecated in favor of torch.nn.utils.clip_grad_norm_.\n"
          ],
          "name": "stderr"
        },
        {
          "output_type": "stream",
          "text": [
            "[0/100] ELBO : 7.9930 , RECON : 7.9930 & KLD : 467.5630\n",
            "[1/100] ELBO : 7.2805 , RECON : 7.2805 & KLD : 477.4447\n",
            "[2/100] ELBO : 6.8862 , RECON : 6.8862 & KLD : 550.2107\n",
            "[3/100] ELBO : 6.2847 , RECON : 6.2847 & KLD : 629.8143\n",
            "[4/100] ELBO : 6.2142 , RECON : 6.2142 & KLD : 715.4745\n",
            "[5/100] ELBO : 6.0646 , RECON : 6.0646 & KLD : 843.2277\n",
            "[6/100] ELBO : 6.0948 , RECON : 6.0948 & KLD : 946.2809\n",
            "[7/100] ELBO : 5.6586 , RECON : 5.6586 & KLD : 1015.1996\n",
            "[8/100] ELBO : 5.4361 , RECON : 5.4361 & KLD : 1169.7783\n",
            "[9/100] ELBO : 5.3160 , RECON : 5.3160 & KLD : 1256.4299\n",
            "[10/100] ELBO : 5.0355 , RECON : 5.0355 & KLD : 1352.0007\n",
            "[11/100] ELBO : 4.6265 , RECON : 4.6265 & KLD : 1440.4095\n",
            "[12/100] ELBO : 4.4648 , RECON : 4.4648 & KLD : 1566.1570\n",
            "[13/100] ELBO : 4.3479 , RECON : 4.3479 & KLD : 1676.6935\n",
            "[14/100] ELBO : 3.9477 , RECON : 3.9477 & KLD : 1763.6750\n",
            "[15/100] ELBO : 3.9542 , RECON : 3.9542 & KLD : 1889.7024\n",
            "[16/100] ELBO : 3.5174 , RECON : 3.5174 & KLD : 2029.6917\n",
            "[17/100] ELBO : 3.5198 , RECON : 3.5198 & KLD : 2122.9001\n",
            "[18/100] ELBO : 3.7274 , RECON : 3.7274 & KLD : 2198.9331\n",
            "[19/100] ELBO : 3.0512 , RECON : 3.0512 & KLD : 2233.1523\n",
            "[20/100] ELBO : 3.1389 , RECON : 3.1389 & KLD : 2388.8193\n",
            "[21/100] ELBO : 2.9343 , RECON : 2.9343 & KLD : 2418.5298\n",
            "[22/100] ELBO : 2.9176 , RECON : 2.9176 & KLD : 2477.7681\n",
            "[23/100] ELBO : 2.6369 , RECON : 2.6369 & KLD : 2488.3503\n",
            "[24/100] ELBO : 2.6256 , RECON : 2.6256 & KLD : 2691.5366\n",
            "[25/100] ELBO : 2.3246 , RECON : 2.3246 & KLD : 2741.7913\n",
            "[26/100] ELBO : 2.3718 , RECON : 2.3718 & KLD : 2778.9326\n",
            "[27/100] ELBO : 2.4034 , RECON : 2.4034 & KLD : 2997.2334\n",
            "[28/100] ELBO : 2.1430 , RECON : 2.1430 & KLD : 2993.9812\n",
            "[29/100] ELBO : 2.0406 , RECON : 2.0406 & KLD : 3103.5142\n",
            "[30/100] ELBO : 1.8886 , RECON : 1.8886 & KLD : 3214.0432\n",
            "[31/100] ELBO : 1.8533 , RECON : 1.8533 & KLD : 3249.1047\n",
            "[32/100] ELBO : 1.7871 , RECON : 1.7871 & KLD : 2725.7812\n",
            "[33/100] ELBO : 2.0731 , RECON : 2.0731 & KLD : 2035.2292\n",
            "[34/100] ELBO : 1.9815 , RECON : 1.9815 & KLD : 2062.7261\n",
            "[35/100] ELBO : 1.5974 , RECON : 1.5974 & KLD : 1858.7517\n",
            "[36/100] ELBO : 1.6599 , RECON : 1.6599 & KLD : 1399.3719\n",
            "[37/100] ELBO : 1.7896 , RECON : 1.7896 & KLD : 1245.7314\n",
            "[38/100] ELBO : 557.1168 , RECON : 1.4286 & KLD : 1111.3765\n",
            "[39/100] ELBO : 1.5115 , RECON : 1.5115 & KLD : 1018.5109\n",
            "[40/100] ELBO : 1.8936 , RECON : 1.8936 & KLD : 801.4062\n",
            "[41/100] ELBO : 1.5215 , RECON : 1.5215 & KLD : 705.9138\n",
            "[42/100] ELBO : 366.4465 , RECON : 1.3293 & KLD : 730.2344\n",
            "[43/100] ELBO : 1.6171 , RECON : 1.6171 & KLD : 716.0273\n",
            "[44/100] ELBO : 1.8371 , RECON : 1.8371 & KLD : 713.8879\n",
            "[45/100] ELBO : 1.6311 , RECON : 1.6311 & KLD : 667.9498\n",
            "[46/100] ELBO : 1.5173 , RECON : 1.5173 & KLD : 667.2344\n",
            "[47/100] ELBO : 1.7205 , RECON : 1.7205 & KLD : 616.8174\n",
            "[48/100] ELBO : 1.8974 , RECON : 1.8974 & KLD : 576.9608\n",
            "[49/100] ELBO : 2.0323 , RECON : 2.0323 & KLD : 555.0849\n",
            "[50/100] ELBO : 259.6140 , RECON : 1.2725 & KLD : 516.6829\n",
            "[51/100] ELBO : 1.6994 , RECON : 1.6994 & KLD : 547.7742\n",
            "[52/100] ELBO : 1.6860 , RECON : 1.6860 & KLD : 527.6467\n",
            "[53/100] ELBO : 1.5630 , RECON : 1.5630 & KLD : 536.5396\n",
            "[54/100] ELBO : 1.5611 , RECON : 1.5611 & KLD : 501.0614\n",
            "[55/100] ELBO : 1.7174 , RECON : 1.7174 & KLD : 501.7447\n",
            "[56/100] ELBO : 250.1996 , RECON : 1.4974 & KLD : 497.4043\n",
            "[57/100] ELBO : 1.9329 , RECON : 1.9329 & KLD : 450.4337\n",
            "[58/100] ELBO : 1.6831 , RECON : 1.6831 & KLD : 448.7123\n",
            "[59/100] ELBO : 2.2425 , RECON : 2.2425 & KLD : 399.5433\n",
            "[60/100] ELBO : 2.0472 , RECON : 2.0472 & KLD : 446.9088\n",
            "[61/100] ELBO : 1.6601 , RECON : 1.6601 & KLD : 458.2706\n",
            "[62/100] ELBO : 1.7374 , RECON : 1.7374 & KLD : 435.9017\n",
            "[63/100] ELBO : 1.9773 , RECON : 1.9773 & KLD : 407.4007\n",
            "[64/100] ELBO : 228.0740 , RECON : 1.0933 & KLD : 453.9613\n",
            "[65/100] ELBO : 1.7120 , RECON : 1.7120 & KLD : 416.5599\n",
            "[66/100] ELBO : 226.0149 , RECON : 1.4082 & KLD : 449.2133\n",
            "[67/100] ELBO : 1.6817 , RECON : 1.6817 & KLD : 455.2010\n",
            "[68/100] ELBO : 1.7956 , RECON : 1.7956 & KLD : 393.4274\n",
            "[69/100] ELBO : 250.3462 , RECON : 1.3824 & KLD : 497.9277\n",
            "[70/100] ELBO : 233.0520 , RECON : 1.4358 & KLD : 463.2324\n",
            "[71/100] ELBO : 1.6664 , RECON : 1.6664 & KLD : 420.1673\n",
            "[72/100] ELBO : 1.6051 , RECON : 1.6051 & KLD : 451.6885\n",
            "[73/100] ELBO : 1.8655 , RECON : 1.8655 & KLD : 360.3991\n",
            "[74/100] ELBO : 179.4895 , RECON : 1.4322 & KLD : 356.1144\n",
            "[75/100] ELBO : 1.7343 , RECON : 1.7343 & KLD : 390.1916\n",
            "[76/100] ELBO : 1.5307 , RECON : 1.5307 & KLD : 440.1447\n",
            "[77/100] ELBO : 2.0101 , RECON : 2.0101 & KLD : 360.9657\n",
            "[78/100] ELBO : 194.7700 , RECON : 1.4299 & KLD : 386.6803\n",
            "[79/100] ELBO : 1.5708 , RECON : 1.5708 & KLD : 402.2646\n",
            "[80/100] ELBO : 232.2795 , RECON : 1.3920 & KLD : 461.7749\n",
            "[81/100] ELBO : 2.3783 , RECON : 2.3783 & KLD : 330.5325\n",
            "[82/100] ELBO : 1.5092 , RECON : 1.5092 & KLD : 415.8353\n",
            "[83/100] ELBO : 1.9935 , RECON : 1.9935 & KLD : 400.0574\n",
            "[84/100] ELBO : 1.9814 , RECON : 1.9814 & KLD : 361.5672\n",
            "[85/100] ELBO : 2.0552 , RECON : 2.0552 & KLD : 350.6581\n",
            "[86/100] ELBO : 1.7572 , RECON : 1.7572 & KLD : 367.7095\n",
            "[87/100] ELBO : 190.4821 , RECON : 1.4201 & KLD : 378.1241\n",
            "[88/100] ELBO : 1.7035 , RECON : 1.7035 & KLD : 361.8458\n",
            "[89/100] ELBO : 1.7905 , RECON : 1.7905 & KLD : 371.9753\n",
            "[90/100] ELBO : 203.1296 , RECON : 1.4574 & KLD : 403.3444\n",
            "[91/100] ELBO : 1.9101 , RECON : 1.9101 & KLD : 366.7451\n",
            "[92/100] ELBO : 2.1656 , RECON : 2.1656 & KLD : 297.6212\n",
            "[93/100] ELBO : 1.8035 , RECON : 1.8035 & KLD : 383.6483\n",
            "[94/100] ELBO : 2.1159 , RECON : 2.1159 & KLD : 356.1298\n",
            "[95/100] ELBO : 1.5504 , RECON : 1.5504 & KLD : 368.9070\n",
            "[96/100] ELBO : 1.7901 , RECON : 1.7901 & KLD : 354.5582\n",
            "[97/100] ELBO : 1.9559 , RECON : 1.9559 & KLD : 378.7058\n",
            "[98/100] ELBO : 2.1816 , RECON : 2.1816 & KLD : 319.4349\n",
            "[99/100] ELBO : 1.9992 , RECON : 1.9992 & KLD : 346.5160\n"
          ],
          "name": "stdout"
        },
        {
          "output_type": "display_data",
          "data": {
            "image/png": "[encoded data removed]",
            "text/plain": [
              "<Figure size 432x288 with 1 Axes>"
            ]
          },
          "metadata": {
            "tags": []
          }
        },
        {
          "output_type": "display_data",
          "data": {
            "image/png": "[encoded data removed]",
            "text/plain": [
              "<Figure size 432x288 with 1 Axes>"
            ]
          },
          "metadata": {
            "tags": []
          }
        },
        {
          "output_type": "display_data",
          "data": {
            "text/plain": [
              "<Figure size 432x288 with 0 Axes>"
            ]
          },
          "metadata": {
            "tags": []
          }
        }
      ]
    },
    {
      "cell_type": "code",
      "metadata": {
        "id": "F4ECycc7VO6X",
        "colab_type": "code",
        "outputId": "ccafb581-da23-4201-c079-9b72dc6da1e3",
        "colab": {
          "base_uri": "https://localhost:8080/",
          "height": 1000
        }
      },
      "source": [
        "encoder, generatorNEU = TRAIN(trainNEU, encoder, generatorNEU, enc_optim, gen_optimNEU)"
      ],
      "execution_count": 0,
      "outputs": [
        {
          "output_type": "stream",
          "text": [
            "/usr/local/lib/python3.6/dist-packages/ipykernel_launcher.py:33: UserWarning: Implicit dimension choice for log_softmax has been deprecated. Change the call to include dim=X as an argument.\n",
            "/usr/local/lib/python3.6/dist-packages/ipykernel_launcher.py:62: UserWarning: torch.nn.utils.clip_grad_norm is now deprecated in favor of torch.nn.utils.clip_grad_norm_.\n",
            "/usr/local/lib/python3.6/dist-packages/ipykernel_launcher.py:63: UserWarning: torch.nn.utils.clip_grad_norm is now deprecated in favor of torch.nn.utils.clip_grad_norm_.\n"
          ],
          "name": "stderr"
        },
        {
          "output_type": "stream",
          "text": [
            "[0/100] ELBO : 7.5937 , RECON : 7.5937 & KLD : 306.1786\n",
            "[1/100] ELBO : 7.0732 , RECON : 7.0732 & KLD : 352.7242\n",
            "[2/100] ELBO : 6.6504 , RECON : 6.6504 & KLD : 418.4734\n",
            "[3/100] ELBO : 6.1446 , RECON : 6.1446 & KLD : 527.7419\n",
            "[4/100] ELBO : 6.0324 , RECON : 6.0324 & KLD : 639.2608\n",
            "[5/100] ELBO : 5.3812 , RECON : 5.3812 & KLD : 751.3559\n",
            "[6/100] ELBO : 5.1483 , RECON : 5.1483 & KLD : 823.8931\n",
            "[7/100] ELBO : 4.7953 , RECON : 4.7953 & KLD : 935.3976\n",
            "[8/100] ELBO : 4.4800 , RECON : 4.4800 & KLD : 1054.5249\n",
            "[9/100] ELBO : 4.3059 , RECON : 4.3059 & KLD : 1141.0081\n",
            "[10/100] ELBO : 4.0336 , RECON : 4.0336 & KLD : 1232.8566\n",
            "[11/100] ELBO : 3.5858 , RECON : 3.5858 & KLD : 1311.5463\n",
            "[12/100] ELBO : 3.3523 , RECON : 3.3523 & KLD : 1413.9666\n",
            "[13/100] ELBO : 3.1637 , RECON : 3.1637 & KLD : 1460.3264\n",
            "[14/100] ELBO : 2.7423 , RECON : 2.7423 & KLD : 1540.8755\n",
            "[15/100] ELBO : 2.7510 , RECON : 2.7510 & KLD : 1597.2977\n",
            "[16/100] ELBO : 2.5101 , RECON : 2.5101 & KLD : 1699.2253\n",
            "[17/100] ELBO : 2.2678 , RECON : 2.2678 & KLD : 1755.0312\n",
            "[18/100] ELBO : 2.1710 , RECON : 2.1710 & KLD : 1777.6246\n",
            "[19/100] ELBO : 1.8210 , RECON : 1.8210 & KLD : 1888.8909\n",
            "[20/100] ELBO : 1.8731 , RECON : 1.8731 & KLD : 1912.2036\n",
            "[21/100] ELBO : 1.9863 , RECON : 1.9863 & KLD : 1804.5215\n",
            "[22/100] ELBO : 1.7503 , RECON : 1.7503 & KLD : 1320.2816\n",
            "[23/100] ELBO : 1.6676 , RECON : 1.6676 & KLD : 1055.1265\n",
            "[24/100] ELBO : 1.6668 , RECON : 1.6668 & KLD : 871.5568\n",
            "[25/100] ELBO : 1.7451 , RECON : 1.7451 & KLD : 925.0338\n",
            "[26/100] ELBO : 1.8470 , RECON : 1.8470 & KLD : 858.0300\n",
            "[27/100] ELBO : 1.9539 , RECON : 1.9539 & KLD : 730.0813\n",
            "[28/100] ELBO : 1.5646 , RECON : 1.5646 & KLD : 533.2913\n",
            "[29/100] ELBO : 291.7471 , RECON : 1.4159 & KLD : 580.6625\n",
            "[30/100] ELBO : 1.8467 , RECON : 1.8467 & KLD : 492.1297\n",
            "[31/100] ELBO : 1.8380 , RECON : 1.8380 & KLD : 533.2131\n",
            "[32/100] ELBO : 1.6004 , RECON : 1.6004 & KLD : 486.9701\n",
            "[33/100] ELBO : 1.5890 , RECON : 1.5890 & KLD : 401.6713\n",
            "[34/100] ELBO : 234.2957 , RECON : 1.4727 & KLD : 465.6459\n",
            "[35/100] ELBO : 228.6240 , RECON : 1.4617 & KLD : 454.3246\n",
            "[36/100] ELBO : 1.6326 , RECON : 1.6326 & KLD : 461.9639\n",
            "[37/100] ELBO : 1.9699 , RECON : 1.9699 & KLD : 444.0782\n",
            "[38/100] ELBO : 1.6478 , RECON : 1.6478 & KLD : 443.8118\n",
            "[39/100] ELBO : 1.7186 , RECON : 1.7186 & KLD : 408.9191\n",
            "[40/100] ELBO : 2.0946 , RECON : 2.0946 & KLD : 363.6450\n",
            "[41/100] ELBO : 222.8191 , RECON : 1.4327 & KLD : 442.7729\n",
            "[42/100] ELBO : 1.6485 , RECON : 1.6485 & KLD : 389.8471\n",
            "[43/100] ELBO : 2.1366 , RECON : 2.1366 & KLD : 378.4323\n",
            "[44/100] ELBO : 195.2805 , RECON : 1.2636 & KLD : 388.0338\n",
            "[45/100] ELBO : 182.9628 , RECON : 1.4831 & KLD : 362.9593\n",
            "[46/100] ELBO : 1.6657 , RECON : 1.6657 & KLD : 393.4632\n",
            "[47/100] ELBO : 206.9603 , RECON : 1.4576 & KLD : 411.0054\n",
            "[48/100] ELBO : 1.5111 , RECON : 1.5111 & KLD : 355.0092\n",
            "[49/100] ELBO : 1.7800 , RECON : 1.7800 & KLD : 347.9911\n",
            "[50/100] ELBO : 182.3432 , RECON : 1.4671 & KLD : 361.7523\n",
            "[51/100] ELBO : 1.6009 , RECON : 1.6009 & KLD : 346.2477\n",
            "[52/100] ELBO : 186.5818 , RECON : 1.4780 & KLD : 370.2077\n",
            "[53/100] ELBO : 1.9797 , RECON : 1.9797 & KLD : 294.4240\n",
            "[54/100] ELBO : 1.8402 , RECON : 1.8402 & KLD : 355.4554\n",
            "[55/100] ELBO : 1.7374 , RECON : 1.7374 & KLD : 320.0704\n",
            "[56/100] ELBO : 1.5267 , RECON : 1.5267 & KLD : 322.2476\n",
            "[57/100] ELBO : 2.0610 , RECON : 2.0610 & KLD : 322.1259\n",
            "[58/100] ELBO : 173.2983 , RECON : 1.4165 & KLD : 343.7637\n",
            "[59/100] ELBO : 177.7799 , RECON : 1.1709 & KLD : 353.2178\n",
            "[60/100] ELBO : 2.5621 , RECON : 2.5621 & KLD : 295.8118\n",
            "[61/100] ELBO : 1.6052 , RECON : 1.6052 & KLD : 291.8105\n",
            "[62/100] ELBO : 1.5871 , RECON : 1.5871 & KLD : 319.4574\n",
            "[63/100] ELBO : 1.7977 , RECON : 1.7977 & KLD : 334.5287\n",
            "[64/100] ELBO : 1.5636 , RECON : 1.5636 & KLD : 345.3737\n",
            "[65/100] ELBO : 1.6189 , RECON : 1.6189 & KLD : 307.8929\n",
            "[66/100] ELBO : 2.0724 , RECON : 2.0724 & KLD : 339.6177\n",
            "[67/100] ELBO : 169.4437 , RECON : 0.6066 & KLD : 337.6741\n",
            "[68/100] ELBO : 1.7500 , RECON : 1.7500 & KLD : 300.2813\n",
            "[69/100] ELBO : 165.3921 , RECON : 1.4478 & KLD : 327.8885\n",
            "[70/100] ELBO : 179.0597 , RECON : 1.4112 & KLD : 355.2969\n",
            "[71/100] ELBO : 166.3672 , RECON : 1.1997 & KLD : 330.3351\n",
            "[72/100] ELBO : 2.4578 , RECON : 2.4578 & KLD : 258.5618\n",
            "[73/100] ELBO : 1.7706 , RECON : 1.7706 & KLD : 301.4750\n",
            "[74/100] ELBO : 2.0012 , RECON : 2.0012 & KLD : 323.6606\n",
            "[75/100] ELBO : 147.7161 , RECON : 1.3848 & KLD : 292.6625\n",
            "[76/100] ELBO : 1.6941 , RECON : 1.6941 & KLD : 334.2305\n",
            "[77/100] ELBO : 1.8705 , RECON : 1.8705 & KLD : 307.9287\n",
            "[78/100] ELBO : 1.6063 , RECON : 1.6063 & KLD : 322.7380\n",
            "[79/100] ELBO : 1.8988 , RECON : 1.8988 & KLD : 294.2210\n",
            "[80/100] ELBO : 153.5337 , RECON : 1.1646 & KLD : 304.7381\n",
            "[81/100] ELBO : 1.7382 , RECON : 1.7382 & KLD : 346.3206\n",
            "[82/100] ELBO : 2.4150 , RECON : 2.4150 & KLD : 291.0943\n",
            "[83/100] ELBO : 1.8961 , RECON : 1.8961 & KLD : 284.8724\n",
            "[84/100] ELBO : 1.5781 , RECON : 1.5781 & KLD : 297.7693\n",
            "[85/100] ELBO : 176.8365 , RECON : 1.0027 & KLD : 351.6677\n",
            "[86/100] ELBO : 159.7865 , RECON : 1.0493 & KLD : 317.4744\n",
            "[87/100] ELBO : 2.0614 , RECON : 2.0614 & KLD : 295.1214\n",
            "[88/100] ELBO : 161.1341 , RECON : 1.4988 & KLD : 319.2705\n",
            "[89/100] ELBO : 139.9701 , RECON : 1.3796 & KLD : 277.1810\n",
            "[90/100] ELBO : 156.2051 , RECON : 1.3373 & KLD : 309.7357\n",
            "[91/100] ELBO : 1.9402 , RECON : 1.9402 & KLD : 260.0280\n",
            "[92/100] ELBO : 2.0173 , RECON : 2.0173 & KLD : 294.2525\n",
            "[93/100] ELBO : 1.9477 , RECON : 1.9477 & KLD : 262.1508\n",
            "[94/100] ELBO : 170.4173 , RECON : 1.4676 & KLD : 337.8993\n",
            "[95/100] ELBO : 150.8799 , RECON : 1.0521 & KLD : 299.6556\n",
            "[96/100] ELBO : 144.2945 , RECON : 1.4272 & KLD : 285.7345\n",
            "[97/100] ELBO : 1.9835 , RECON : 1.9835 & KLD : 289.7778\n",
            "[98/100] ELBO : 1.5002 , RECON : 1.5002 & KLD : 270.4682\n",
            "[99/100] ELBO : 2.2413 , RECON : 2.2413 & KLD : 273.2977\n"
          ],
          "name": "stdout"
        },
        {
          "output_type": "display_data",
          "data": {
            "image/png": "[encoded data removed]",
            "text/plain": [
              "<Figure size 432x288 with 1 Axes>"
            ]
          },
          "metadata": {
            "tags": []
          }
        },
        {
          "output_type": "display_data",
          "data": {
            "image/png": "[encoded data removed]",
            "text/plain": [
              "<Figure size 432x288 with 1 Axes>"
            ]
          },
          "metadata": {
            "tags": []
          }
        },
        {
          "output_type": "display_data",
          "data": {
            "text/plain": [
              "<Figure size 432x288 with 0 Axes>"
            ]
          },
          "metadata": {
            "tags": []
          }
        }
      ]
    },
    {
      "cell_type": "code",
      "metadata": {
        "trusted": true,
        "id": "SNhDum5j8e5t",
        "colab_type": "code",
        "colab": {}
      },
      "source": [
        "torch.save(generatorPOS.state_dict(),'./generatorPOS.pkl')\n",
        "torch.save(encoder.state_dict(),'./encoderPOS.pkl')\n",
        "torch.save(generatorNEG.state_dict(),'./generatorNEG.pkl')\n",
        "torch.save(generatorNEU.state_dict(),'./generatorNEU.pkl')\n",
        "\n"
      ],
      "execution_count": 0,
      "outputs": []
    },
    {
      "cell_type": "code",
      "metadata": {
        "id": "5wzuVqg8cD0p",
        "colab_type": "code",
        "colab": {}
      },
      "source": [
        ""
      ],
      "execution_count": 0,
      "outputs": []
    },
    {
      "cell_type": "code",
      "metadata": {
        "trusted": true,
        "id": "wtS0hzE88e5v",
        "colab_type": "code",
        "outputId": "a47a444c-da61-4e8b-ac17-730fbd9c4dc4",
        "colab": {
          "base_uri": "https://localhost:8080/",
          "height": 92
        }
      },
      "source": [
        "generator_input = Variable(torch.LongTensor([[word2index['<SOS>']]*1])).transpose(1,0)\n",
        "if USE_CUDA:\n",
        "    generator_input = generator_input.cuda()\n",
        "\n",
        "latent = Variable(torch.randn([1,10])).cuda() if USE_CUDA else Variable(torch.randn([1,10]))\n",
        "code = Variable(torch.randn([1,2]).uniform_(0,1)).cuda() if USE_CUDA else Variable(torch.randn([1,2]).uniform_(0,1))\n",
        "recon = generatorNEG(generator_input,latent,code,15,SEQ_LENGTH,False)\n",
        "\n",
        "v,i = torch.max(recon,1)\n",
        "\n",
        "decoded=[]\n",
        "for t in range(i.size()[0]):\n",
        "    decoded.append(index2word[i.data.cpu().numpy()[t] if USE_CUDA else i.data.cpu().numpy()[t]])\n",
        "# print(decoded)\n",
        "\n",
        "print('A: ', ' '.join([i for i in decoded if i !='<PAD>' and i != '<EOS>'])+'\\n')"
      ],
      "execution_count": 0,
      "outputs": [
        {
          "output_type": "stream",
          "text": [
            "A:  পুতিনের হাতে মরণাস্ত্র ! ট্রাম্পের হাত তাহলে ফুল দিয়ে কি !\n",
            "\n"
          ],
          "name": "stdout"
        },
        {
          "output_type": "stream",
          "text": [
            "/usr/local/lib/python3.6/dist-packages/ipykernel_launcher.py:33: UserWarning: Implicit dimension choice for log_softmax has been deprecated. Change the call to include dim=X as an argument.\n"
          ],
          "name": "stderr"
        }
      ]
    },
    {
      "cell_type": "code",
      "metadata": {
        "id": "lfR3oTtLcKMP",
        "colab_type": "code",
        "colab": {}
      },
      "source": [
        "def generate(encoder, generator, text):\n",
        "    \n",
        "    t0 = text\n",
        "    t0 = t0.replace(\"<br>\",\"\")\n",
        "    t0 = t0.replace(\"/\",\"\")\n",
        "    token0 = nltk.word_tokenize(t0)\n",
        "   \n",
        "    \n",
        "    if len(token0)>=SEQ_LENGTH:\n",
        "        token0= token0[:SEQ_LENGTH-1]\n",
        "    token0.append(\"<EOS>\")\n",
        "\n",
        "    while len(token0)<SEQ_LENGTH:\n",
        "        token0.append('<PAD>')\n",
        "    \n",
        "    \n",
        "    temp = prepare_sequence(token0, word2index)\n",
        "    temp = temp.view(1,-1)\n",
        "    \n",
        "    generator_input = Variable(torch.LongTensor([[word2index['<SOS>']]*1])).transpose(1,0)\n",
        "    if USE_CUDA:\n",
        "        generator_input = generator_input.cuda()\n",
        "    \n",
        "    \n",
        "    latent, mu, log_var = encoder(temp)\n",
        "    \n",
        "    code = Variable(torch.randn([1,2]).uniform_(0,1)).cuda() if USE_CUDA else Variable(torch.randn([1,2]).uniform_(0,1))\n",
        "    recon = generator(generator_input,latent,code,15,SEQ_LENGTH,False)\n",
        "\n",
        "    v,i = torch.max(recon,1)\n",
        "\n",
        "    decoded=[]\n",
        "    for t in range(i.size()[0]):\n",
        "        decoded.append(index2word[i.data.cpu().numpy()[t] if USE_CUDA else i.data.cpu().numpy()[t]])\n",
        "        \n",
        "    \n",
        "    print(text)\n",
        "\n",
        "    print('A: ', ' '.join([i for i in decoded if i !='<PAD>' and i != '<EOS>'])+'\\n')\n",
        "    \n",
        "    \n",
        "    "
      ],
      "execution_count": 0,
      "outputs": []
    },
    {
      "cell_type": "code",
      "metadata": {
        "id": "jCwD7BKZ2cuI",
        "colab_type": "code",
        "colab": {}
      },
      "source": [
        ""
      ],
      "execution_count": 0,
      "outputs": []
    },
    {
      "cell_type": "code",
      "metadata": {
        "id": "0RTGrfYK2c5M",
        "colab_type": "code",
        "outputId": "ede75966-5e50-4a81-ffd9-b4bbe7c8b6da",
        "colab": {
          "base_uri": "https://localhost:8080/",
          "height": 35
        }
      },
      "source": [
        "random.randrange(1, 2000)"
      ],
      "execution_count": 0,
      "outputs": [
        {
          "output_type": "execute_result",
          "data": {
            "text/plain": [
              "233"
            ]
          },
          "metadata": {
            "tags": []
          },
          "execution_count": 103
        }
      ]
    },
    {
      "cell_type": "code",
      "metadata": {
        "id": "cqDSTGnYgKCc",
        "colab_type": "code",
        "outputId": "0796d3b9-a98e-4ef8-afea-79614123137b",
        "colab": {
          "base_uri": "https://localhost:8080/",
          "height": 328
        }
      },
      "source": [
        "for i in range(5):\n",
        "    gen = generate(encoder, generatorPOS, dataNEU[random.randrange(1, 2000)])\n",
        "\n",
        "\n",
        "# nextgen = generate(encoder, generatorPOS, str(gen))\n",
        "# print(nextgen)"
      ],
      "execution_count": 0,
      "outputs": [
        {
          "output_type": "stream",
          "text": [
            "সকল ধর্মের নাকি শুধু মুসলিমদের।\n",
            "A:  সুন্দর সুন্দর কিল পড়লে সবারই ক্রিকেটের শুদ্ধ করতে\n",
            "\n",
            "ওটা এ দেশে স্বাভাবিক দাদা\n",
            "A:  মন উচিত বাংলাদেশ। করা উচিত। করে।\n",
            "\n",
            "অনেক বাংলাদেশী ভারতীয় ক্রিকেট এর সমর্থক, তারাই নাম গোপন করে মন্তব্য করে ।\n",
            "A:  তবে যে , , , দেশ নির্বাচন , , ও রাজস্য আয় , ভাল\n",
            "\n",
            "আরে মিয়া না জেনে কথা বলবেন না। ধোনির রান ১০১৪৩ শুধু ওয়ানডেতে। টেস্টে ৪৮৭৬ রান বুঝছেন?\n",
            "A:  এ ধরনের কত নিয়ে মন্তব্য , তার ! তো তার ? সেতু। তাও করেছে\n",
            "\n",
            "হাজার হাজার কোটি টাকা লুটপাট করলে টাকা থাকবে কি করে?\n",
            "A:  এ ধরনের ম্যান্ডেট নিয়ে আপত্তিকর , বর্ণবাদী ও নিন্দনীয়।\n",
            "\n"
          ],
          "name": "stdout"
        },
        {
          "output_type": "stream",
          "text": [
            "/usr/local/lib/python3.6/dist-packages/ipykernel_launcher.py:33: UserWarning: Implicit dimension choice for log_softmax has been deprecated. Change the call to include dim=X as an argument.\n"
          ],
          "name": "stderr"
        }
      ]
    },
    {
      "cell_type": "code",
      "metadata": {
        "id": "Hr_0STiLg4qH",
        "colab_type": "code",
        "outputId": "466e17c8-52c1-4cc1-cfe6-22b2a4ac88e9",
        "colab": {
          "base_uri": "https://localhost:8080/",
          "height": 110
        }
      },
      "source": [
        "generate(encoder, generatorPOS, \"এটা সময় মনে হচ্ছে এখানে একটু পরেই যুদ্ধ\")"
      ],
      "execution_count": 0,
      "outputs": [
        {
          "output_type": "stream",
          "text": [
            "এটা সময় মনে হচ্ছে এখানে একটু পরেই যুদ্ধ\n",
            "A:  টুকি বাবু। অনেক এগিয়ে হও। আর ভালো মানুষ হও।\n",
            "\n"
          ],
          "name": "stdout"
        },
        {
          "output_type": "stream",
          "text": [
            "/usr/local/lib/python3.6/dist-packages/ipykernel_launcher.py:33: UserWarning: Implicit dimension choice for log_softmax has been deprecated. Change the call to include dim=X as an argument.\n"
          ],
          "name": "stderr"
        }
      ]
    },
    {
      "cell_type": "code",
      "metadata": {
        "id": "Mk4jkry4mUx_",
        "colab_type": "code",
        "outputId": "ea6395fe-7f0f-48b8-958b-516ea3b07bd3",
        "colab": {
          "base_uri": "https://localhost:8080/",
          "height": 35
        }
      },
      "source": [
        "grr = ['some', 'thing']\n",
        "grr = grr*2\n",
        "grr"
      ],
      "execution_count": 0,
      "outputs": [
        {
          "output_type": "execute_result",
          "data": {
            "text/plain": [
              "['some', 'thing', 'some', 'thing']"
            ]
          },
          "metadata": {
            "tags": []
          },
          "execution_count": 72
        }
      ]
    }
  ]
}